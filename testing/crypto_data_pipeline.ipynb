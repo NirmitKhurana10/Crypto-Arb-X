{
 "cells": [
  {
   "cell_type": "markdown",
   "metadata": {},
   "source": [
    "## This file is for tesing the data pipeline to be used in scripting"
   ]
  },
  {
   "cell_type": "code",
   "execution_count": null,
   "metadata": {},
   "outputs": [],
   "source": [
    "import pandas as pd;"
   ]
  },
  {
   "cell_type": "code",
   "execution_count": 6,
   "metadata": {},
   "outputs": [
    {
     "data": {
      "text/plain": [
       "<bound method NDFrame.head of                           _id            timestamp      open      high  \\\n",
       "0    67bdb1c16511a9cca5036d70  2025-02-21 14:30:00  98213.41  98896.81   \n",
       "1    67bdb1c16511a9cca5036d71  2025-02-21 15:30:00  98337.70  98679.83   \n",
       "2    67bdb1c16511a9cca5036d72  2025-02-21 16:30:00  98612.00  98833.11   \n",
       "3    67bdb1c16511a9cca5036d73  2025-02-21 17:30:00  98629.31  98957.93   \n",
       "4    67bdb1c16511a9cca5036d74  2025-02-21 18:30:00  98903.99  99475.00   \n",
       "..                        ...                  ...       ...       ...   \n",
       "195  67bdb1c16511a9cca5036e33  2025-02-25 13:30:00   2368.12   2417.33   \n",
       "196  67bdb1c16511a9cca5036e34  2025-02-25 14:30:00   2397.00   2409.66   \n",
       "197  67bdb1c16511a9cca5036e35  2025-02-25 15:30:00   2383.53   2411.80   \n",
       "198  67bdb1c16511a9cca5036e36  2025-02-25 16:30:00   2395.00   2439.50   \n",
       "199  67bdb1c16511a9cca5036e37  2025-02-25 17:30:00   2433.70   2433.99   \n",
       "\n",
       "          low     close       volume    symbol  \n",
       "0    98111.11  98337.70   1333.69974  BTC/USDT  \n",
       "1    98240.63  98612.00    708.61090  BTC/USDT  \n",
       "2    98490.57  98629.30   1059.33669  BTC/USDT  \n",
       "3    98531.29  98904.00    884.67204  BTC/USDT  \n",
       "4    98800.00  99334.93   1714.51363  BTC/USDT  \n",
       "..        ...       ...          ...       ...  \n",
       "195   2357.90   2396.99  79161.89770  ETH/USDT  \n",
       "196   2378.01   2383.54  49302.87160  ETH/USDT  \n",
       "197   2357.05   2394.99  75899.00530  ETH/USDT  \n",
       "198   2368.88   2433.69  50960.04520  ETH/USDT  \n",
       "199   2425.04   2425.32   3354.10800  ETH/USDT  \n",
       "\n",
       "[200 rows x 8 columns]>"
      ]
     },
     "execution_count": 6,
     "metadata": {},
     "output_type": "execute_result"
    }
   ],
   "source": [
    "file_path = \"/Users/nirmitkhurana/Desktop/Nirmit Docs/Applied-AI-Solutions-GBC-T431/Applied AI Solutuions GBC/AGILE PROJECT MANAGEMENT METHODOLOGIES CRN-50046-202402 - 242025 - 958 PM/Final Project Crypto Arb X/rawData/Historical_Data.csv\"\n",
    "df = pd.read_csv(file_path)\n",
    "df.head"
   ]
  },
  {
   "cell_type": "code",
   "execution_count": 9,
   "metadata": {},
   "outputs": [],
   "source": [
    "df = df.sort_values(by='timestamp')"
   ]
  },
  {
   "cell_type": "code",
   "execution_count": 10,
   "metadata": {},
   "outputs": [
    {
     "name": "stdout",
     "output_type": "stream",
     "text": [
      "_id          0\n",
      "timestamp    0\n",
      "open         0\n",
      "high         0\n",
      "low          0\n",
      "close        0\n",
      "volume       0\n",
      "symbol       0\n",
      "dtype: int64\n"
     ]
    }
   ],
   "source": [
    "print(df.isnull().sum())\n"
   ]
  }
 ],
 "metadata": {
  "kernelspec": {
   "display_name": "ArbTradeX",
   "language": "python",
   "name": "python3"
  },
  "language_info": {
   "codemirror_mode": {
    "name": "ipython",
    "version": 3
   },
   "file_extension": ".py",
   "mimetype": "text/x-python",
   "name": "python",
   "nbconvert_exporter": "python",
   "pygments_lexer": "ipython3",
   "version": "3.11.10"
  }
 },
 "nbformat": 4,
 "nbformat_minor": 2
}
